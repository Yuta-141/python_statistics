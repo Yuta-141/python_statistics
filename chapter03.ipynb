{
 "cells": [
  {
   "cell_type": "code",
   "execution_count": 1,
   "metadata": {},
   "outputs": [
    {
     "name": "stdout",
     "output_type": "stream",
     "text": [
      "174.00999999999996\n"
     ]
    }
   ],
   "source": [
    "height = [168.3,179.2,165.8,170.5,188.2,174.6,162.8,175.5,178.1,177.1]\n",
    "average = sum(height)/len(height)\n",
    "print(average)"
   ]
  },
  {
   "cell_type": "code",
   "execution_count": 2,
   "metadata": {},
   "outputs": [
    {
     "name": "stdout",
     "output_type": "stream",
     "text": [
      "174.01\n"
     ]
    }
   ],
   "source": [
    "import statistics\n",
    "height = [168.3,179.2,165.8,170.5,188.2,174.6,162.8,175.5,178.1,177.1]\n",
    "average = statistics.mean(height)\n",
    "print(average)"
   ]
  },
  {
   "cell_type": "code",
   "execution_count": 4,
   "metadata": {},
   "outputs": [
    {
     "name": "stdout",
     "output_type": "stream",
     "text": [
      "174.01\n"
     ]
    }
   ],
   "source": [
    "print(statistics.mean(height))"
   ]
  },
  {
   "cell_type": "code",
   "execution_count": 6,
   "metadata": {},
   "outputs": [
    {
     "name": "stdout",
     "output_type": "stream",
     "text": [
      "175.05\n",
      "20\n"
     ]
    }
   ],
   "source": [
    "from statistics import median,mode\n",
    "print(median(height))\n",
    "print(mode([19,21,19,20,22,19,20,21,20,20]))"
   ]
  },
  {
   "cell_type": "code",
   "execution_count": 8,
   "metadata": {},
   "outputs": [
    {
     "name": "stdout",
     "output_type": "stream",
     "text": [
      "4.0\n"
     ]
    }
   ],
   "source": [
    "import numpy as np\n",
    "x = np.array([1,2,4,8,16])\n",
    "print(np.power(x.prod(), 1/len(x)))"
   ]
  },
  {
   "cell_type": "code",
   "execution_count": 9,
   "metadata": {},
   "outputs": [
    {
     "ename": "ModuleNotFoundError",
     "evalue": "No module named 'scipy'",
     "output_type": "error",
     "traceback": [
      "\u001b[0;31m---------------------------------------------------------------------------\u001b[0m",
      "\u001b[0;31mModuleNotFoundError\u001b[0m                       Traceback (most recent call last)",
      "\u001b[0;32m<ipython-input-9-67c200be37af>\u001b[0m in \u001b[0;36m<module>\u001b[0;34m\u001b[0m\n\u001b[0;32m----> 1\u001b[0;31m \u001b[0;32mfrom\u001b[0m \u001b[0mscipy\u001b[0m \u001b[0;32mimport\u001b[0m \u001b[0mstats\u001b[0m\u001b[0;34m\u001b[0m\u001b[0;34m\u001b[0m\u001b[0m\n\u001b[0m\u001b[1;32m      2\u001b[0m \u001b[0mx\u001b[0m \u001b[0;34m=\u001b[0m \u001b[0;34m[\u001b[0m\u001b[0;36m168.3\u001b[0m\u001b[0;34m,\u001b[0m\u001b[0;36m179.2\u001b[0m\u001b[0;34m,\u001b[0m\u001b[0;36m165.8\u001b[0m\u001b[0;34m,\u001b[0m\u001b[0;36m170.5\u001b[0m\u001b[0;34m,\u001b[0m\u001b[0;36m188.2\u001b[0m\u001b[0;34m,\u001b[0m\u001b[0;36m174.6\u001b[0m\u001b[0;34m,\u001b[0m\u001b[0;36m162.8\u001b[0m\u001b[0;34m,\u001b[0m\u001b[0;36m175.5\u001b[0m\u001b[0;34m,\u001b[0m\u001b[0;36m178.1\u001b[0m\u001b[0;34m,\u001b[0m\u001b[0;36m177.1\u001b[0m\u001b[0;34m]\u001b[0m\u001b[0;34m\u001b[0m\u001b[0;34m\u001b[0m\u001b[0m\n\u001b[1;32m      3\u001b[0m \u001b[0mprint\u001b[0m\u001b[0;34m(\u001b[0m\u001b[0mstats\u001b[0m\u001b[0;34m.\u001b[0m\u001b[0mtrim_mean\u001b[0m\u001b[0;34m(\u001b[0m\u001b[0mx\u001b[0m\u001b[0;34m,\u001b[0m\u001b[0;36m0.1\u001b[0m\u001b[0;34m)\u001b[0m\u001b[0;34m)\u001b[0m\u001b[0;34m\u001b[0m\u001b[0;34m\u001b[0m\u001b[0m\n",
      "\u001b[0;31mModuleNotFoundError\u001b[0m: No module named 'scipy'"
     ]
    }
   ],
   "source": [
    "from scipy import stats\n",
    "x = [168.3,179.2,165.8,170.5,188.2,174.6,162.8,175.5,178.1,177.1]\n",
    "print(stats.trim_mean(x,0.1))"
   ]
  }
 ],
 "metadata": {
  "kernelspec": {
   "display_name": "Python 3",
   "language": "python",
   "name": "python3"
  },
  "language_info": {
   "codemirror_mode": {
    "name": "ipython",
    "version": 3
   },
   "file_extension": ".py",
   "mimetype": "text/x-python",
   "name": "python",
   "nbconvert_exporter": "python",
   "pygments_lexer": "ipython3",
   "version": "3.9.0"
  }
 },
 "nbformat": 4,
 "nbformat_minor": 4
}
