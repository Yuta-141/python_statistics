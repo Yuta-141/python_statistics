{
 "cells": [
  {
   "cell_type": "code",
   "execution_count": 3,
   "metadata": {},
   "outputs": [],
   "source": [
    "for i in [0,1,2,3,4,5]:\n",
    "    n=+i"
   ]
  },
  {
   "cell_type": "code",
   "execution_count": 7,
   "metadata": {},
   "outputs": [
    {
     "name": "stdout",
     "output_type": "stream",
     "text": [
      "東京\n",
      "大阪\n",
      "福岡\n"
     ]
    }
   ],
   "source": [
    "for i in ['東京','大阪','福岡']:\n",
    "    print(i)"
   ]
  },
  {
   "cell_type": "code",
   "execution_count": 8,
   "metadata": {},
   "outputs": [
    {
     "name": "stdout",
     "output_type": "stream",
     "text": [
      "0.5\n"
     ]
    }
   ],
   "source": [
    "x = 1\n",
    "x = x /2\n",
    "print(x)"
   ]
  },
  {
   "cell_type": "code",
   "execution_count": 9,
   "metadata": {},
   "outputs": [
    {
     "name": "stdout",
     "output_type": "stream",
     "text": [
      "0\n",
      "1\n",
      "0\n"
     ]
    }
   ],
   "source": [
    "import math\n",
    "x = 1/2\n",
    "print(math.floor(x))\n",
    "print(math.ceil(x))\n",
    "print(round(x))"
   ]
  },
  {
   "cell_type": "code",
   "execution_count": 10,
   "metadata": {},
   "outputs": [
    {
     "name": "stdout",
     "output_type": "stream",
     "text": [
      "2\n"
     ]
    }
   ],
   "source": [
    "u = [1,2,3]\n",
    "print(u[1])"
   ]
  },
  {
   "cell_type": "code",
   "execution_count": 12,
   "metadata": {},
   "outputs": [
    {
     "name": "stdout",
     "output_type": "stream",
     "text": [
      "[0, 2, 4, 6, 8]\n"
     ]
    }
   ],
   "source": [
    "s = []\n",
    "for u in range(5):\n",
    "    s.append(u*2)\n",
    "print(s)"
   ]
  },
  {
   "cell_type": "code",
   "execution_count": 13,
   "metadata": {},
   "outputs": [
    {
     "name": "stdout",
     "output_type": "stream",
     "text": [
      "[2, 4]\n"
     ]
    }
   ],
   "source": [
    "s = [0,2,4,6,8]\n",
    "print(s[1:3])"
   ]
  },
  {
   "cell_type": "code",
   "execution_count": 14,
   "metadata": {},
   "outputs": [
    {
     "name": "stdout",
     "output_type": "stream",
     "text": [
      "[4, 6]\n"
     ]
    }
   ],
   "source": [
    "print(s[-3:-1])"
   ]
  },
  {
   "cell_type": "code",
   "execution_count": 15,
   "metadata": {},
   "outputs": [
    {
     "name": "stdout",
     "output_type": "stream",
     "text": [
      "5\n"
     ]
    }
   ],
   "source": [
    "u=[[0,1,2],[3,4,5],[6,7,8]]\n",
    "print(u[1][2])"
   ]
  },
  {
   "cell_type": "code",
   "execution_count": 16,
   "metadata": {},
   "outputs": [
    {
     "name": "stdout",
     "output_type": "stream",
     "text": [
      "cd\n",
      "タワ\n"
     ]
    }
   ],
   "source": [
    "u = 'abcde'\n",
    "print(u[2:4])\n",
    "v = '東京タワー'\n",
    "print(v[2:4])"
   ]
  },
  {
   "cell_type": "code",
   "execution_count": 17,
   "metadata": {},
   "outputs": [
    {
     "name": "stdout",
     "output_type": "stream",
     "text": [
      "5\n"
     ]
    }
   ],
   "source": [
    "print(len(v))"
   ]
  },
  {
   "cell_type": "code",
   "execution_count": 21,
   "metadata": {},
   "outputs": [
    {
     "name": "stdout",
     "output_type": "stream",
     "text": [
      "108\n"
     ]
    }
   ],
   "source": [
    "dic = {'東京タワー': 333, '富士山':3776, '通天閣':108, '天保山':4.53}\n",
    "print(dic['通天閣'])"
   ]
  },
  {
   "cell_type": "code",
   "execution_count": 22,
   "metadata": {},
   "outputs": [
    {
     "name": "stdout",
     "output_type": "stream",
     "text": [
      "dict_items([('東京タワー', 333), ('富士山', 3776), ('通天閣', 108), ('天保山', 4.53)])\n",
      "dict_keys(['東京タワー', '富士山', '通天閣', '天保山'])\n",
      "dict_values([333, 3776, 108, 4.53])\n"
     ]
    }
   ],
   "source": [
    "print(dic.items())\n",
    "print(dic.keys())\n",
    "print(dic.values())"
   ]
  },
  {
   "cell_type": "code",
   "execution_count": 25,
   "metadata": {},
   "outputs": [
    {
     "name": "stdout",
     "output_type": "stream",
     "text": [
      "[1, 1, 2, 3, 3, 4, 5, 6, 6]\n",
      "[1, 2, 3, 4, 5, 6]\n"
     ]
    }
   ],
   "source": [
    "u = [1,1,2,3,3,4,5,6,6]\n",
    "v =list(set(u))\n",
    "print(u)\n",
    "print(v)"
   ]
  },
  {
   "cell_type": "code",
   "execution_count": 37,
   "metadata": {},
   "outputs": [
    {
     "name": "stdout",
     "output_type": "stream",
     "text": [
      "0.002468109130859375 sec\n",
      "0.0005271434783935547 sec\n"
     ]
    }
   ],
   "source": [
    "import time\n",
    "def sample_loop(n):\n",
    "    r =[ ]\n",
    "    for i in range(n):\n",
    "        r.append(i)\n",
    "    return r\n",
    "\n",
    "def sample_comprehension(n):\n",
    "    return [i for i in range(n)]\n",
    "\n",
    "start = time.time()\n",
    "sample_loop(10000)\n",
    "print(time.time() - start,'sec')\n",
    "start = time.time()\n",
    "sample_comprehension(10000)\n",
    "print(time.time() - start,'sec')"
   ]
  },
  {
   "cell_type": "code",
   "execution_count": 38,
   "metadata": {},
   "outputs": [
    {
     "name": "stdout",
     "output_type": "stream",
     "text": [
      "0 東京\n",
      "1 大阪\n",
      "2 福岡\n"
     ]
    }
   ],
   "source": [
    "input = ['東京','大阪','福岡']\n",
    "for i , v in enumerate(input):\n",
    "    print(i,v)"
   ]
  },
  {
   "cell_type": "code",
   "execution_count": 40,
   "metadata": {
    "scrolled": true
   },
   "outputs": [
    {
     "name": "stdout",
     "output_type": "stream",
     "text": [
      "('東京タワー', 33)\n",
      "('通天閣', 108)\n",
      "('名古屋テレビ局', 180)\n"
     ]
    }
   ],
   "source": [
    "towers = ['東京タワー','通天閣','名古屋テレビ局']\n",
    "heights = [33,108,180]\n",
    "for u in zip(towers, heights):\n",
    "    print(u)"
   ]
  },
  {
   "cell_type": "code",
   "execution_count": null,
   "metadata": {},
   "outputs": [],
   "source": []
  },
  {
   "cell_type": "code",
   "execution_count": 42,
   "metadata": {},
   "outputs": [
    {
     "data": {
      "text/plain": [
       "[['名古屋テレビ局', 180], ['東京タワー', 333], ['通天閣', 108]]"
      ]
     },
     "execution_count": 42,
     "metadata": {},
     "output_type": "execute_result"
    }
   ],
   "source": [
    "p = [['東京タワー',333],['通天閣',108],['名古屋テレビ局',180]]\n",
    "sorted(p)"
   ]
  },
  {
   "cell_type": "code",
   "execution_count": 49,
   "metadata": {},
   "outputs": [
    {
     "name": "stdout",
     "output_type": "stream",
     "text": [
      "[['通天閣', 108], ['名古屋テレビ局', 180], ['東京タワー', 333]]\n"
     ]
    }
   ],
   "source": [
    "def extract_height(u):\n",
    "    return u[1]\n",
    "q = sorted(p,key=extract_height)\n",
    "print(q)"
   ]
  },
  {
   "cell_type": "code",
   "execution_count": 52,
   "metadata": {},
   "outputs": [
    {
     "name": "stdout",
     "output_type": "stream",
     "text": [
      "[['通天閣', 108], ['名古屋テレビ局', 180], ['東京タワー', 333]]\n"
     ]
    }
   ],
   "source": [
    "p = [['東京タワー',333],['通天閣',108],['名古屋テレビ局',180]]\n",
    "q = sorted(p,key=lambda u: u[1])\n",
    "print(q)"
   ]
  },
  {
   "cell_type": "code",
   "execution_count": 54,
   "metadata": {
    "scrolled": true
   },
   "outputs": [
    {
     "name": "stdout",
     "output_type": "stream",
     "text": [
      "[('天保山', 4.53), ('通天閣', 108), ('東京タワー', 333), ('富士山', 3776)]\n"
     ]
    }
   ],
   "source": [
    "print(sorted(dic.items(),key=lambda u:u[1]))"
   ]
  },
  {
   "cell_type": "code",
   "execution_count": 55,
   "metadata": {},
   "outputs": [
    {
     "name": "stdout",
     "output_type": "stream",
     "text": [
      "[('富士山', 3776), ('東京タワー', 333), ('通天閣', 108), ('天保山', 4.53)]\n"
     ]
    }
   ],
   "source": [
    "print(sorted(dic.items(),key=lambda u:u[1], reverse=True))"
   ]
  }
 ],
 "metadata": {
  "kernelspec": {
   "display_name": "Python 3",
   "language": "python",
   "name": "python3"
  },
  "language_info": {
   "codemirror_mode": {
    "name": "ipython",
    "version": 3
   },
   "file_extension": ".py",
   "mimetype": "text/x-python",
   "name": "python",
   "nbconvert_exporter": "python",
   "pygments_lexer": "ipython3",
   "version": "3.9.0"
  }
 },
 "nbformat": 4,
 "nbformat_minor": 4
}
